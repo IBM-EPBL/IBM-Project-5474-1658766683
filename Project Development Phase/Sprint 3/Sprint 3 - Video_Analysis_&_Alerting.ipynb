{
  "cells": [
    {
      "cell_type": "code",
      "execution_count": null,
      "id": "6e0c43ef",
      "metadata": {
        "id": "6e0c43ef"
      },
      "outputs": [],
      "source": [
        "!pip install twilio"
      ]
    },
    {
      "cell_type": "markdown",
      "id": "7169c41a",
      "metadata": {
        "id": "7169c41a"
      },
      "source": [
        "**Video Analysis**"
      ]
    },
    {
      "cell_type": "code",
      "execution_count": null,
      "id": "19be72de",
      "metadata": {
        "id": "19be72de"
      },
      "outputs": [],
      "source": [
        "import cv2\n",
        "import numpy as np\n",
        "from tensorflow.keras.utils import load_img,img_to_array\n",
        "from tensorflow.keras.models import load_model\n",
        "from twilio.rest import Client\n",
        "from playsound import playsound\n",
        "msg_sent = False\n",
        "model = load_model('ffd_model.h5')\n",
        "video = cv2.VideoCapture(\"demo.mp4\")\n",
        "def send_message():\n",
        "    global phno\n",
        "    account_sid = 'ACe26bfd8b184156caefea94812b9a5aad' \n",
        "    auth_token = '8d8da633578a1c6ac8ba4ffd272e41fa'\n",
        "    client = Client(account_sid,auth_token)\n",
        "    msg = client.messages.create(\n",
        "        body=\"Fire Detected! Get to safety immediately!!!!\",\n",
        "        from_='+18176316943',\n",
        "        to=phno\n",
        "    )\n",
        "    print(msg.sid)\n",
        "    print(\"Fire Detected\")\n",
        "    print(\"SMS Sent\")\n",
        "phno = str(input(\"Enter your phone number with the country code:\"))"
      ]
    },
    {
      "cell_type": "code",
      "execution_count": null,
      "id": "86aa8895",
      "metadata": {
        "id": "86aa8895"
      },
      "outputs": [],
      "source": [
        "!pip install playsound==1.2.2"
      ]
    },
    {
      "cell_type": "markdown",
      "source": [
        "**Alerting**"
      ],
      "metadata": {
        "id": "FCXVDqSPD53r"
      },
      "id": "FCXVDqSPD53r"
    },
    {
      "cell_type": "code",
      "execution_count": null,
      "id": "c4a3eeef",
      "metadata": {
        "id": "c4a3eeef"
      },
      "outputs": [],
      "source": [
        "v = 0\n",
        "while True:\n",
        "    success,frame = video.read()\n",
        "    cv2.imwrite('output.jpg',frame)\n",
        "    img = load_img(s,target_size=(128,128))\n",
        "    x = img_to_array(img)\n",
        "    x = np.expand_dims(x,axis=0)\n",
        "    predict = model.predict(x)\n",
        "    y = int(predict[0][0])\n",
        "    if y==1:\n",
        "        if not msg_sent:\n",
        "            send_message()\n",
        "            msg_sent = True\n",
        "            playsound('alert.mp3')\n",
        "    else:\n",
        "        print(\"No Forest Fire Detected\")\n",
        "    cv2.imshow(\"Image\",img)\n",
        "    if cv2.waitKey(10) & 0xFF == ord('q'):\n",
        "        break\n",
        "video.release()\n",
        "cv2.destroyAllWindows()"
      ]
    }
  ],
  "metadata": {
    "kernelspec": {
      "display_name": "Python 3 (ipykernel)",
      "language": "python",
      "name": "python3"
    },
    "language_info": {
      "codemirror_mode": {
        "name": "ipython",
        "version": 3
      },
      "file_extension": ".py",
      "mimetype": "text/x-python",
      "name": "python",
      "nbconvert_exporter": "python",
      "pygments_lexer": "ipython3",
      "version": "3.7.13"
    },
    "colab": {
      "provenance": []
    }
  },
  "nbformat": 4,
  "nbformat_minor": 5
}