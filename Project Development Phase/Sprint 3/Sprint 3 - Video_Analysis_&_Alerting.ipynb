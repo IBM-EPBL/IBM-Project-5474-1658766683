{
  "cells": [
    {
      "cell_type": "code",
      "execution_count": 2,
      "id": "6e0c43ef",
      "metadata": {
        "colab": {
          "base_uri": "https://localhost:8080/"
        },
        "id": "6e0c43ef",
        "outputId": "c885df4c-ee73-464b-c4aa-38ea915f9e50"
      },
      "outputs": [
        {
          "output_type": "stream",
          "name": "stdout",
          "text": [
            "Looking in indexes: https://pypi.org/simple, https://us-python.pkg.dev/colab-wheels/public/simple/\n",
            "Collecting twilio\n",
            "  Downloading twilio-7.15.1-py2.py3-none-any.whl (1.4 MB)\n",
            "\u001b[K     |████████████████████████████████| 1.4 MB 4.9 MB/s \n",
            "\u001b[?25hRequirement already satisfied: pytz in /usr/local/lib/python3.7/dist-packages (from twilio) (2022.6)\n",
            "Requirement already satisfied: requests>=2.0.0 in /usr/local/lib/python3.7/dist-packages (from twilio) (2.23.0)\n",
            "Collecting PyJWT<3.0.0,>=2.0.0\n",
            "  Downloading PyJWT-2.6.0-py3-none-any.whl (20 kB)\n",
            "Requirement already satisfied: urllib3!=1.25.0,!=1.25.1,<1.26,>=1.21.1 in /usr/local/lib/python3.7/dist-packages (from requests>=2.0.0->twilio) (1.24.3)\n",
            "Requirement already satisfied: chardet<4,>=3.0.2 in /usr/local/lib/python3.7/dist-packages (from requests>=2.0.0->twilio) (3.0.4)\n",
            "Requirement already satisfied: idna<3,>=2.5 in /usr/local/lib/python3.7/dist-packages (from requests>=2.0.0->twilio) (2.10)\n",
            "Requirement already satisfied: certifi>=2017.4.17 in /usr/local/lib/python3.7/dist-packages (from requests>=2.0.0->twilio) (2022.9.24)\n",
            "Installing collected packages: PyJWT, twilio\n",
            "Successfully installed PyJWT-2.6.0 twilio-7.15.1\n"
          ]
        }
      ],
      "source": [
        "!pip install twilio"
      ]
    },
    {
      "cell_type": "markdown",
      "id": "7169c41a",
      "metadata": {
        "id": "7169c41a"
      },
      "source": [
        "**Video Analysis**"
      ]
    },
    {
      "cell_type": "code",
      "execution_count": 1,
      "id": "19be72de",
      "metadata": {
        "colab": {
          "base_uri": "https://localhost:8080/"
        },
        "id": "19be72de",
        "outputId": "9874a912-6552-411e-a534-d06ba023344c"
      },
      "outputs": [
        {
          "name": "stdout",
          "output_type": "stream",
          "text": [
            "Enter your phone number with the country code:+918148119062\n"
          ]
        }
      ],
      "source": [
        "import cv2\n",
        "import numpy as np\n",
        "from tensorflow.keras.utils import load_img,img_to_array\n",
        "from tensorflow.keras.models import load_model\n",
        "from twilio.rest import Client\n",
        "from playsound import playsound\n",
        "msg_sent = False\n",
        "model = load_model('ffd_model.h5')\n",
        "video = cv2.VideoCapture(\"demo.mp4\")\n",
        "def send_message():\n",
        "    global phno\n",
        "    account_sid = 'ACe26bfd8b184156caefea94812b9a5aad' \n",
        "    auth_token = '8d8da633578a1c6ac8ba4ffd272e41fa'\n",
        "    client = Client(account_sid,auth_token)\n",
        "    msg = client.messages.create(\n",
        "        body=\"Fire Detected! Get to safety immediately!!!!\",\n",
        "        from_='+18176316943',\n",
        "        to=phno\n",
        "    )\n",
        "    print(msg.sid)\n",
        "    print(\"Fire Detected\")\n",
        "    print(\"SMS Sent\")\n",
        "phno = str(input(\"Enter your phone number with the country code:\"))"
      ]
    },
    {
      "cell_type": "code",
      "execution_count": 3,
      "id": "86aa8895",
      "metadata": {
        "colab": {
          "base_uri": "https://localhost:8080/"
        },
        "id": "86aa8895",
        "outputId": "6101fcc8-44b8-44cc-d3aa-631199f11baa"
      },
      "outputs": [
        {
          "output_type": "stream",
          "name": "stdout",
          "text": [
            "Looking in indexes: https://pypi.org/simple, https://us-python.pkg.dev/colab-wheels/public/simple/\n",
            "Collecting playsound==1.2.2\n",
            "  Downloading playsound-1.2.2-py2.py3-none-any.whl (6.0 kB)\n",
            "Installing collected packages: playsound\n",
            "Successfully installed playsound-1.2.2\n"
          ]
        }
      ],
      "source": [
        "!pip install playsound==1.2.2"
      ]
    },
    {
      "cell_type": "markdown",
      "source": [
        "**Alerting**"
      ],
      "metadata": {
        "id": "FCXVDqSPD53r"
      },
      "id": "FCXVDqSPD53r"
    },
    {
      "cell_type": "code",
      "execution_count": null,
      "id": "c4a3eeef",
      "metadata": {
        "id": "c4a3eeef"
      },
      "outputs": [],
      "source": [
        "v = 0\n",
        "while True:\n",
        "    success,frame = video.read()\n",
        "    cv2.imwrite('output.jpg',frame)\n",
        "    img = load_img(s,target_size=(128,128))\n",
        "    x = img_to_array(img)\n",
        "    x = np.expand_dims(x,axis=0)\n",
        "    predict = model.predict(x)\n",
        "    y = int(predict[0][0])\n",
        "    if y==1:\n",
        "        if not msg_sent:\n",
        "            send_message()\n",
        "            msg_sent = True\n",
        "            playsound('alert.mp3')\n",
        "    else:\n",
        "        print(\"No Forest Fire Detected\")\n",
        "    cv2.imshow(\"Image\",img)\n",
        "    if cv2.waitKey(10) & 0xFF == ord('q'):\n",
        "        break\n",
        "video.release()\n",
        "cv2.destroyAllWindows()"
      ]
    }
  ],
  "metadata": {
    "kernelspec": {
      "display_name": "Python 3 (ipykernel)",
      "language": "python",
      "name": "python3"
    },
    "language_info": {
      "codemirror_mode": {
        "name": "ipython",
        "version": 3
      },
      "file_extension": ".py",
      "mimetype": "text/x-python",
      "name": "python",
      "nbconvert_exporter": "python",
      "pygments_lexer": "ipython3",
      "version": "3.7.13"
    },
    "colab": {
      "provenance": []
    }
  },
  "nbformat": 4,
  "nbformat_minor": 5
}